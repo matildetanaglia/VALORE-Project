{
 "cells": [
  {
   "cell_type": "markdown",
   "metadata": {},
   "source": [
    "# Creation of database and loading of tables"
   ]
  },
  {
   "cell_type": "code",
   "execution_count": 2,
   "metadata": {},
   "outputs": [
    {
     "data": {
      "text/plain": [
       "true"
      ]
     },
     "execution_count": 2,
     "metadata": {},
     "output_type": "execute_result"
    }
   ],
   "source": [
    "require 'csv'\n",
    "require 'sequel'"
   ]
  },
  {
   "cell_type": "markdown",
   "metadata": {},
   "source": [
    "## Open connection to postgres"
   ]
  },
  {
   "cell_type": "code",
   "execution_count": 3,
   "metadata": {},
   "outputs": [
    {
     "data": {
      "text/plain": [
       "#<Sequel::Postgres::Database: {:adapter=>\"postgres\", :host=>\"postgres\", :user=>\"postgres\", :password=>\"******\"}>"
      ]
     },
     "execution_count": 3,
     "metadata": {},
     "output_type": "execute_result"
    }
   ],
   "source": [
    "DB = Sequel.connect(adapter: 'postgres', \n",
    "                    host: 'postgres', \n",
    "                    user: 'postgres',\n",
    "                    password: '*******'\n",
    "                    )"
   ]
  },
  {
   "cell_type": "markdown",
   "metadata": {},
   "source": [
    "## Create a new database if not exists"
   ]
  },
  {
   "cell_type": "code",
   "execution_count": 4,
   "metadata": {},
   "outputs": [
    {
     "data": {
      "text/plain": [
       "\"Database already exists\""
      ]
     },
     "execution_count": 4,
     "metadata": {},
     "output_type": "execute_result"
    }
   ],
   "source": [
    "result = DB.execute(\"SELECT datname FROM pg_catalog.pg_database WHERE datname = 'db_name'\")\n",
    "result == 0 ? DB.execute(\"CREATE DATABASE db_name\") : \"Database already exists\""
   ]
  },
  {
   "cell_type": "code",
   "execution_count": 5,
   "metadata": {},
   "outputs": [
    {
     "data": {
      "text/plain": [
       "#<Sequel::Postgres::Database: {:adapter=>\"postgres\", :host=>\"postgres\", :user=>\"postgres\", :password=>\"******\", :database=>\"db_name\"}>"
      ]
     },
     "execution_count": 5,
     "metadata": {},
     "output_type": "execute_result"
    }
   ],
   "source": [
    "Object.send(:remove_const, :DB) if defined?(DB)\n",
    "DB = Sequel.connect(adapter: 'postgres', \n",
    "                    host: 'postgres', \n",
    "                    user: 'postgres',\n",
    "                    password: '*******',\n",
    "                    database: 'db_name'\n",
    "                    )"
   ]
  },
  {
   "cell_type": "markdown",
   "metadata": {},
   "source": [
    "## Create a new schema if not exists"
   ]
  },
  {
   "cell_type": "code",
   "execution_count": 6,
   "metadata": {},
   "outputs": [
    {
     "data": {
      "text/plain": [
       "\"Schema already exists\""
      ]
     },
     "execution_count": 6,
     "metadata": {},
     "output_type": "execute_result"
    }
   ],
   "source": [
    "result = DB.execute(\"SELECT schema_name FROM information_schema.schemata WHERE schema_name = 'schema_name'\")\n",
    "result == 0 ? DB.execute(\"CREATE SCHEMA schema_name\") : \"Schema already exists\""
   ]
  },
  {
   "cell_type": "code",
   "execution_count": 7,
   "metadata": {},
   "outputs": [
    {
     "data": {
      "text/plain": [
       "#<Sequel::Postgres::Database: {:adapter=>\"postgres\", :host=>\"postgres\", :user=>\"postgres\", :password=>\"*******\", :database=>\"db_name\", :search_path=>[\"schema_name\"]}>"
      ]
     },
     "execution_count": 7,
     "metadata": {},
     "output_type": "execute_result"
    }
   ],
   "source": [
    "Object.send(:remove_const, :DB) if defined?(DB)\n",
    "DB = Sequel.connect(adapter: 'postgres', \n",
    "                    host: 'postgres', \n",
    "                    user: 'postgres',\n",
    "                    password: '*******',\n",
    "                    database: 'db_name',\n",
    "                    search_path: ['schema_name']\n",
    "                    )"
   ]
  },
  {
   "cell_type": "markdown",
   "metadata": {},
   "source": [
    "## Create tables"
   ]
  },
  {
   "cell_type": "code",
   "execution_count": 14,
   "metadata": {},
   "outputs": [
    {
     "data": {
      "text/plain": [
       "0"
      ]
     },
     "execution_count": 14,
     "metadata": {},
     "output_type": "execute_result"
    }
   ],
   "source": [
    "create_tables_file = \"postgres_create_tables.sql\"\n",
    "query = File.open(create_tables_file, \"r\") { |file| file.read }\n",
    "\n",
    "# WARNING: if tables already exists, they will be dropped\n",
    "DB.execute(query)"
   ]
  },
  {
   "cell_type": "markdown",
   "metadata": {},
   "source": [
    "## Load models"
   ]
  },
  {
   "cell_type": "code",
   "execution_count": 12,
   "metadata": {},
   "outputs": [
    {
     "data": {
      "text/plain": [
       "true"
      ]
     },
     "execution_count": 12,
     "metadata": {},
     "output_type": "execute_result"
    }
   ],
   "source": [
    "load 'source_model.rb'"
   ]
  },
  {
   "cell_type": "markdown",
   "metadata": {},
   "source": [
    "## Load tables data"
   ]
  },
  {
   "cell_type": "code",
   "execution_count": 15,
   "metadata": {},
   "outputs": [
    {
     "name": "stdout",
     "output_type": "stream",
     "text": [
      "Loading data... 0%\n",
      "\n",
      "Loading farmaci_biologici.csv\n",
      "Loading data... 100%\n",
      "\n",
      "Loading complete"
     ]
    }
   ],
   "source": [
    "# Converter to set headers to lowercase\n",
    "converter = lambda { |header| header.downcase }\n",
    "\n",
    "# Calculate progress during data loading\n",
    "total_size = Dir['CSV/*'].select { |f| File.file?(f) }.sum { |f| File.size(f) }\n",
    "progressive_size = 0\n",
    "\n",
    "print(\"Loading data... 0%\\n\\n\")\n",
    "\n",
    "# Get files list and perform some actions for each file\n",
    "files_list = Dir[\"CSV/*\"]\n",
    "files_list.each do |f|\n",
    "  \n",
    "  print(\"Loading \" + f.split(\"/\")[1] + \"\\n\")\n",
    "  data_file = CSV.read(f, headers: true, header_converters: converter)\n",
    "  data_file.each do |row|\n",
    "    # Insert rows in its table\n",
    "    get_model(f.split(\"/\")[1]).insert(row.to_hash)\n",
    "  end\n",
    "  \n",
    "  # Update progress\n",
    "  progressive_size = progressive_size + File.size(f)\n",
    "  print(\"Loading data... \" + ((progressive_size.to_f / total_size) * 100).to_i.to_s + \"%\\n\\n\")\n",
    "  \n",
    "end\n",
    "\n",
    "print(\"Loading complete\")"
   ]
  }
 ],
 "metadata": {
  "kernelspec": {
   "display_name": "Ruby 2.7.0",
   "language": "ruby",
   "name": "ruby"
  },
  "language_info": {
   "file_extension": ".rb",
   "mimetype": "application/x-ruby",
   "name": "ruby",
   "version": "2.7.0"
  }
 },
 "nbformat": 4,
 "nbformat_minor": 4
}
